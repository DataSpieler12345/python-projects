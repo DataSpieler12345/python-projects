{
 "cells": [
  {
   "cell_type": "code",
   "execution_count": 14,
   "id": "4c5e71f6-4063-4087-95b9-9e9c0cf476ba",
   "metadata": {},
   "outputs": [],
   "source": [
    "# import library\n",
    "from pathlib import Path"
   ]
  },
  {
   "cell_type": "code",
   "execution_count": 17,
   "id": "ca03a9a5-56ad-46c3-946b-f0973c66caae",
   "metadata": {},
   "outputs": [],
   "source": [
    "folder = Path('./data')"
   ]
  },
  {
   "cell_type": "code",
   "execution_count": 18,
   "id": "41e1426a-4371-4cbb-a352-2d90ac4f41a0",
   "metadata": {},
   "outputs": [],
   "source": [
    "# Change extension in folder / text to csv\n",
    "for c in list(folder.iterdir()):\n",
    "    #print(c)\n",
    "    if c.suffix == \".txt\":\n",
    "        new_xtension = c.with_suffix(\".csv\")\n",
    "        c.rename(new_xtension)"
   ]
  },
  {
   "cell_type": "code",
   "execution_count": 20,
   "id": "d90509ce-94f5-44c1-9066-30d6df749d4c",
   "metadata": {},
   "outputs": [
    {
     "name": "stdout",
     "output_type": "stream",
     "text": [
      "data\\file 1.csv\n",
      "data\\file 10.csv\n",
      "data\\file 2.csv\n",
      "data\\file 3.csv\n",
      "data\\file 4.csv\n",
      "data\\file 5.csv\n",
      "data\\file 6.csv\n",
      "data\\file 7.csv\n",
      "data\\file 8.csv\n",
      "data\\file 9.csv\n"
     ]
    }
   ],
   "source": [
    "# change in directories and subdirectories / csv to txt\n",
    "for c in folder.glob(\"**/*.csv\"):\n",
    "    print(c)\n",
    "    new_xtension = c.with_suffix(\".txt\")\n",
    "    c.rename(new_xtension)"
   ]
  },
  {
   "cell_type": "code",
   "execution_count": 21,
   "id": "bff690a5-5647-4b6f-9d48-138c0f51891c",
   "metadata": {},
   "outputs": [
    {
     "name": "stdout",
     "output_type": "stream",
     "text": [
      "Danke schön für deine Zeit!\n"
     ]
    }
   ],
   "source": [
    "print(\"Danke schön für deine Zeit!\")"
   ]
  }
 ],
 "metadata": {
  "kernelspec": {
   "display_name": "Python 3 (ipykernel)",
   "language": "python",
   "name": "python3"
  },
  "language_info": {
   "codemirror_mode": {
    "name": "ipython",
    "version": 3
   },
   "file_extension": ".py",
   "mimetype": "text/x-python",
   "name": "python",
   "nbconvert_exporter": "python",
   "pygments_lexer": "ipython3",
   "version": "3.10.7"
  }
 },
 "nbformat": 4,
 "nbformat_minor": 5
}
