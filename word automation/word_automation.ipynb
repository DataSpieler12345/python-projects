{
 "cells": [
  {
   "cell_type": "code",
   "execution_count": 20,
   "id": "a7926198-d52e-4d2a-9d69-84b3cf8837f9",
   "metadata": {},
   "outputs": [],
   "source": [
    "import pandas as pd\n",
    "from datetime import datetime\n",
    "from docxtpl import DocxTemplate"
   ]
  },
  {
   "cell_type": "code",
   "execution_count": 12,
   "id": "8ca79331-8104-4e5c-93cd-188d31272fe8",
   "metadata": {},
   "outputs": [],
   "source": [
    "# saving the template\n",
    "doc = DocxTemplate(\"./data/mensaje.docx\")"
   ]
  },
  {
   "cell_type": "code",
   "execution_count": 13,
   "id": "934cf391-8d39-4c31-823c-87b6b7d75c19",
   "metadata": {},
   "outputs": [],
   "source": [
    "# create constant variable \n",
    "nombre = \"Francisco Duarte\"\n",
    "telefono = \"(123) 456-789\"\n",
    "correo = \"francisco.duarte@gmail.com\"\n",
    "fecha = datetime.today().strftime(\"%d/%m/%Y\")"
   ]
  },
  {
   "cell_type": "code",
   "execution_count": 14,
   "id": "c0c3d6bb-3a1d-460f-9f43-323df7d4f000",
   "metadata": {},
   "outputs": [
    {
     "name": "stdout",
     "output_type": "stream",
     "text": [
      "29/07/2024\n"
     ]
    }
   ],
   "source": [
    "#test date time \n",
    "print(fecha)"
   ]
  },
  {
   "cell_type": "code",
   "execution_count": 15,
   "id": "483de842-14a0-4aa9-b187-596f19bf2d16",
   "metadata": {},
   "outputs": [],
   "source": [
    "# create a dictionary\n",
    "constantes = {'nombre': nombre, 'telefono': telefono, 'correo':correo, 'fecha': fecha}"
   ]
  },
  {
   "cell_type": "code",
   "execution_count": 17,
   "id": "6fce3795-fb24-4155-9404-f5022f5d9542",
   "metadata": {},
   "outputs": [
    {
     "name": "stdout",
     "output_type": "stream",
     "text": [
      "{'nombre': 'Francisco Duarte', 'telefono': '(123) 456-789', 'correo': 'francisco.duarte@gmail.com', 'fecha': '29/07/2024'}\n"
     ]
    }
   ],
   "source": [
    "# print dictionary\n",
    "print(constantes)"
   ]
  },
  {
   "cell_type": "code",
   "execution_count": 22,
   "id": "931a66f3-dc7b-475e-97cc-85b87aef96cd",
   "metadata": {},
   "outputs": [],
   "source": [
    "# load the data of the excel table\n",
    "df = pd.read_excel('./data/notas.xlsx')"
   ]
  },
  {
   "cell_type": "code",
   "execution_count": 23,
   "id": "5513a2a8-4b20-4e0f-970c-d23c1df97313",
   "metadata": {},
   "outputs": [
    {
     "data": {
      "text/html": [
       "<div>\n",
       "<style scoped>\n",
       "    .dataframe tbody tr th:only-of-type {\n",
       "        vertical-align: middle;\n",
       "    }\n",
       "\n",
       "    .dataframe tbody tr th {\n",
       "        vertical-align: top;\n",
       "    }\n",
       "\n",
       "    .dataframe thead th {\n",
       "        text-align: right;\n",
       "    }\n",
       "</style>\n",
       "<table border=\"1\" class=\"dataframe\">\n",
       "  <thead>\n",
       "    <tr style=\"text-align: right;\">\n",
       "      <th></th>\n",
       "      <th>nombre alumno</th>\n",
       "      <th>mat</th>\n",
       "      <th>fis</th>\n",
       "      <th>qui</th>\n",
       "    </tr>\n",
       "  </thead>\n",
       "  <tbody>\n",
       "    <tr>\n",
       "      <th>0</th>\n",
       "      <td>German Pichardo</td>\n",
       "      <td>6.2</td>\n",
       "      <td>5.8</td>\n",
       "      <td>6.1</td>\n",
       "    </tr>\n",
       "    <tr>\n",
       "      <th>1</th>\n",
       "      <td>Giahana Alfaro</td>\n",
       "      <td>5.9</td>\n",
       "      <td>6.4</td>\n",
       "      <td>6.3</td>\n",
       "    </tr>\n",
       "    <tr>\n",
       "      <th>2</th>\n",
       "      <td>Luis Lopez</td>\n",
       "      <td>5.6</td>\n",
       "      <td>6.1</td>\n",
       "      <td>5.9</td>\n",
       "    </tr>\n",
       "    <tr>\n",
       "      <th>3</th>\n",
       "      <td>Ana Soto</td>\n",
       "      <td>6.4</td>\n",
       "      <td>6.2</td>\n",
       "      <td>6.0</td>\n",
       "    </tr>\n",
       "    <tr>\n",
       "      <th>4</th>\n",
       "      <td>Yuyis Solorzano</td>\n",
       "      <td>6.0</td>\n",
       "      <td>6.3</td>\n",
       "      <td>5.8</td>\n",
       "    </tr>\n",
       "    <tr>\n",
       "      <th>5</th>\n",
       "      <td>Benny Sven</td>\n",
       "      <td>6.1</td>\n",
       "      <td>5.9</td>\n",
       "      <td>6.2</td>\n",
       "    </tr>\n",
       "    <tr>\n",
       "      <th>6</th>\n",
       "      <td>Kathia Laut</td>\n",
       "      <td>5.8</td>\n",
       "      <td>6.0</td>\n",
       "      <td>6.1</td>\n",
       "    </tr>\n",
       "    <tr>\n",
       "      <th>7</th>\n",
       "      <td>Susi Simpson</td>\n",
       "      <td>6.3</td>\n",
       "      <td>6.1</td>\n",
       "      <td>6.2</td>\n",
       "    </tr>\n",
       "    <tr>\n",
       "      <th>8</th>\n",
       "      <td>Kathai Kraut</td>\n",
       "      <td>6.2</td>\n",
       "      <td>6.0</td>\n",
       "      <td>6.3</td>\n",
       "    </tr>\n",
       "    <tr>\n",
       "      <th>9</th>\n",
       "      <td>Dirk Salinas</td>\n",
       "      <td>6.1</td>\n",
       "      <td>5.7</td>\n",
       "      <td>6.0</td>\n",
       "    </tr>\n",
       "  </tbody>\n",
       "</table>\n",
       "</div>"
      ],
      "text/plain": [
       "     nombre alumno  mat  fis  qui\n",
       "0  German Pichardo  6.2  5.8  6.1\n",
       "1   Giahana Alfaro  5.9  6.4  6.3\n",
       "2       Luis Lopez  5.6  6.1  5.9\n",
       "3         Ana Soto  6.4  6.2  6.0\n",
       "4  Yuyis Solorzano  6.0  6.3  5.8\n",
       "5       Benny Sven  6.1  5.9  6.2\n",
       "6      Kathia Laut  5.8  6.0  6.1\n",
       "7     Susi Simpson  6.3  6.1  6.2\n",
       "8     Kathai Kraut  6.2  6.0  6.3\n",
       "9     Dirk Salinas  6.1  5.7  6.0"
      ]
     },
     "execution_count": 23,
     "metadata": {},
     "output_type": "execute_result"
    }
   ],
   "source": [
    "# bringt it (df)\n",
    "df"
   ]
  },
  {
   "cell_type": "code",
   "execution_count": 30,
   "id": "9e73d28b-3001-47ca-b332-0de1e8c3ad30",
   "metadata": {},
   "outputs": [
    {
     "name": "stdout",
     "output_type": "stream",
     "text": [
      "{'nombre_alumno': 'German Pichardo', 'nota_mat': 6.2, 'nota_fis': 5.8, 'nota_qui': 6.1, 'nombre': 'Francisco Duarte', 'telefono': '(123) 456-789', 'correo': 'francisco.duarte@gmail.com', 'fecha': '29/07/2024'}\n",
      "{'nombre_alumno': 'Giahana Alfaro', 'nota_mat': 5.9, 'nota_fis': 6.4, 'nota_qui': 6.3, 'nombre': 'Francisco Duarte', 'telefono': '(123) 456-789', 'correo': 'francisco.duarte@gmail.com', 'fecha': '29/07/2024'}\n",
      "{'nombre_alumno': 'Luis Lopez', 'nota_mat': 5.6, 'nota_fis': 6.1, 'nota_qui': 5.9, 'nombre': 'Francisco Duarte', 'telefono': '(123) 456-789', 'correo': 'francisco.duarte@gmail.com', 'fecha': '29/07/2024'}\n",
      "{'nombre_alumno': 'Ana Soto', 'nota_mat': 6.4, 'nota_fis': 6.2, 'nota_qui': 6.0, 'nombre': 'Francisco Duarte', 'telefono': '(123) 456-789', 'correo': 'francisco.duarte@gmail.com', 'fecha': '29/07/2024'}\n",
      "{'nombre_alumno': 'Yuyis Solorzano', 'nota_mat': 6.0, 'nota_fis': 6.3, 'nota_qui': 5.8, 'nombre': 'Francisco Duarte', 'telefono': '(123) 456-789', 'correo': 'francisco.duarte@gmail.com', 'fecha': '29/07/2024'}\n",
      "{'nombre_alumno': 'Benny Sven', 'nota_mat': 6.1, 'nota_fis': 5.9, 'nota_qui': 6.2, 'nombre': 'Francisco Duarte', 'telefono': '(123) 456-789', 'correo': 'francisco.duarte@gmail.com', 'fecha': '29/07/2024'}\n",
      "{'nombre_alumno': 'Kathia Laut', 'nota_mat': 5.8, 'nota_fis': 6.0, 'nota_qui': 6.1, 'nombre': 'Francisco Duarte', 'telefono': '(123) 456-789', 'correo': 'francisco.duarte@gmail.com', 'fecha': '29/07/2024'}\n",
      "{'nombre_alumno': 'Susi Simpson', 'nota_mat': 6.3, 'nota_fis': 6.1, 'nota_qui': 6.2, 'nombre': 'Francisco Duarte', 'telefono': '(123) 456-789', 'correo': 'francisco.duarte@gmail.com', 'fecha': '29/07/2024'}\n",
      "{'nombre_alumno': 'Kathai Kraut', 'nota_mat': 6.2, 'nota_fis': 6.0, 'nota_qui': 6.3, 'nombre': 'Francisco Duarte', 'telefono': '(123) 456-789', 'correo': 'francisco.duarte@gmail.com', 'fecha': '29/07/2024'}\n",
      "{'nombre_alumno': 'Dirk Salinas', 'nota_mat': 6.1, 'nota_fis': 5.7, 'nota_qui': 6.0, 'nombre': 'Francisco Duarte', 'telefono': '(123) 456-789', 'correo': 'francisco.duarte@gmail.com', 'fecha': '29/07/2024'}\n"
     ]
    }
   ],
   "source": [
    "# iterate the documents und create for every student a single file \n",
    "for indice, fila in df.iterrows():\n",
    "    contenido = {\n",
    "        'nombre_alumno': fila[\"nombre alumno\"],\n",
    "        'nota_mat': fila['mat'],\n",
    "        'nota_fis': fila['fis'],\n",
    "        'nota_qui': fila['qui']\n",
    "    } #update the content\n",
    "    contenido.update(constantes)\n",
    "    #load the new data\n",
    "    doc.render(contenido)\n",
    "    #save it \n",
    "    doc.save(f\"Notas_de_{fila['nombre alumno']}.docx\")\n",
    "    \n",
    "    print(contenido)"
   ]
  },
  {
   "cell_type": "code",
   "execution_count": 18,
   "id": "40a02281-fe32-4f94-b872-6a912fe2a9c4",
   "metadata": {},
   "outputs": [],
   "source": [
    "# save the data into the word document created\n",
    "doc.render(constantes)\n",
    "doc.save(f\"prueba.docx\")"
   ]
  }
 ],
 "metadata": {
  "kernelspec": {
   "display_name": "Python 3 (ipykernel)",
   "language": "python",
   "name": "python3"
  },
  "language_info": {
   "codemirror_mode": {
    "name": "ipython",
    "version": 3
   },
   "file_extension": ".py",
   "mimetype": "text/x-python",
   "name": "python",
   "nbconvert_exporter": "python",
   "pygments_lexer": "ipython3",
   "version": "3.10.7"
  }
 },
 "nbformat": 4,
 "nbformat_minor": 5
}
